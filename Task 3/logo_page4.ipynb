{
 "cells": [
  {
   "cell_type": "code",
   "execution_count": 1,
   "metadata": {},
   "outputs": [],
   "source": [
    "# importing the necessary libraries.\n",
    "from bs4 import BeautifulSoup\n",
    "import requests\n",
    "import urllib\n",
    "import pandas as pd"
   ]
  },
  {
   "cell_type": "code",
   "execution_count": 2,
   "metadata": {},
   "outputs": [],
   "source": [
    "# accessing the website.\n",
    "search_url = \"https://www.knowledgeowl.com\"\n",
    "r = requests.get(search_url)\n",
    "soup = BeautifulSoup(r.text, 'html.parser')\n",
    "Location = soup.find_all('div', class_ = \"logos\")\n",
    "images = Location[0].find_all('img')"
   ]
  },
  {
   "cell_type": "code",
   "execution_count": 32,
   "metadata": {},
   "outputs": [
    {
     "name": "stdout",
     "output_type": "stream",
     "text": [
      "/assets/img/dev-results@x2.852b227b-852b22.png\n",
      "/assets/img/frontier-airlines@x2.af489973-af4899.png\n",
      "/assets/img/alexander-forrest@x2.59ec188b-59ec18.png\n",
      "/assets/img/inspired-elearning@x2.e8eeed3c-e8eeed.png\n",
      "/assets/img/hba@x2.b0b23336-b0b233.png\n",
      "/assets/img/jackrabbit-class@x2.453a828c-453a82.png\n",
      "['https://www.knowledgeowl.com/assets/img/dev-results@x2.852b227b-852b22.png', 'https://www.knowledgeowl.com/assets/img/frontier-airlines@x2.af489973-af4899.png', 'https://www.knowledgeowl.com/assets/img/alexander-forrest@x2.59ec188b-59ec18.png', 'https://www.knowledgeowl.com/assets/img/inspired-elearning@x2.e8eeed3c-e8eeed.png', 'https://www.knowledgeowl.com/assets/img/hba@x2.b0b23336-b0b233.png', 'https://www.knowledgeowl.com/assets/img/jackrabbit-class@x2.453a828c-453a82.png']\n"
     ]
    }
   ],
   "source": [
    "# extracting the image links.\n",
    "logo_link = []\n",
    "a =[] # using this to obtain names of the companies.\n",
    "for i  in images:\n",
    "    print(i['src'])\n",
    "    a.append(i['src'])\n",
    "    l = search_url + i['src']\n",
    "    if l not in logo_link:\n",
    "        logo_link.append(l)\n",
    "print(logo_link)\n"
   ]
  },
  {
   "cell_type": "code",
   "execution_count": 26,
   "metadata": {},
   "outputs": [],
   "source": [
    "# saving the images.\n",
    "count = 0\n",
    "for i in logo_link:\n",
    "    resource = urllib.request.urlopen(i)\n",
    "    output = open(f'{count}.jpg',\"wb\")\n",
    "    output.write(resource.read())\n",
    "    output.close()\n",
    "    count += 1"
   ]
  },
  {
   "cell_type": "code",
   "execution_count": 34,
   "metadata": {},
   "outputs": [
    {
     "data": {
      "text/plain": [
       "['/assets/img/dev-results@x2.852b227b-852b22.png',\n",
       " '/assets/img/frontier-airlines@x2.af489973-af4899.png',\n",
       " '/assets/img/alexander-forrest@x2.59ec188b-59ec18.png',\n",
       " '/assets/img/inspired-elearning@x2.e8eeed3c-e8eeed.png',\n",
       " '/assets/img/hba@x2.b0b23336-b0b233.png',\n",
       " '/assets/img/jackrabbit-class@x2.453a828c-453a82.png']"
      ]
     },
     "execution_count": 34,
     "metadata": {},
     "output_type": "execute_result"
    }
   ],
   "source": [
    "logo_name = []\n",
    "links = a\n",
    "links"
   ]
  },
  {
   "cell_type": "code",
   "execution_count": 39,
   "metadata": {},
   "outputs": [
    {
     "name": "stdout",
     "output_type": "stream",
     "text": [
      "dev-results@x2.852b227b-852b22.png\n",
      "frontier-airlines@x2.af489973-af4899.png\n",
      "alexander-forrest@x2.59ec188b-59ec18.png\n",
      "inspired-elearning@x2.e8eeed3c-e8eeed.png\n",
      "hba@x2.b0b23336-b0b233.png\n",
      "jackrabbit-class@x2.453a828c-453a82.png\n"
     ]
    }
   ],
   "source": [
    "n = []\n",
    "for i in links:\n",
    "    print(i.split('/')[-1])\n",
    "    n.append(i.split('/')[-1])"
   ]
  },
  {
   "cell_type": "code",
   "execution_count": 42,
   "metadata": {},
   "outputs": [
    {
     "name": "stdout",
     "output_type": "stream",
     "text": [
      "dev-results\n",
      "frontier-airlines\n",
      "alexander-forrest\n",
      "inspired-elearning\n",
      "hba\n",
      "jackrabbit-class\n"
     ]
    }
   ],
   "source": [
    "logo_name = []\n",
    "for i in n:\n",
    "    print(i.split('@')[0])\n",
    "    logo_name.append(i.split('@')[0])"
   ]
  },
  {
   "cell_type": "code",
   "execution_count": 43,
   "metadata": {},
   "outputs": [
    {
     "data": {
      "text/plain": [
       "['dev-results',\n",
       " 'frontier-airlines',\n",
       " 'alexander-forrest',\n",
       " 'inspired-elearning',\n",
       " 'hba',\n",
       " 'jackrabbit-class']"
      ]
     },
     "execution_count": 43,
     "metadata": {},
     "output_type": "execute_result"
    }
   ],
   "source": [
    "logo_name"
   ]
  },
  {
   "cell_type": "code",
   "execution_count": null,
   "metadata": {},
   "outputs": [],
   "source": []
  }
 ],
 "metadata": {
  "interpreter": {
   "hash": "dc07d24e2f18896857f0b2a651fe84ba40ce7b297e58d8804a308c8039f752a6"
  },
  "kernelspec": {
   "display_name": "Python 3.8.8 ('base')",
   "language": "python",
   "name": "python3"
  },
  "language_info": {
   "codemirror_mode": {
    "name": "ipython",
    "version": 3
   },
   "file_extension": ".py",
   "mimetype": "text/x-python",
   "name": "python",
   "nbconvert_exporter": "python",
   "pygments_lexer": "ipython3",
   "version": "3.8.8"
  },
  "orig_nbformat": 4
 },
 "nbformat": 4,
 "nbformat_minor": 2
}
