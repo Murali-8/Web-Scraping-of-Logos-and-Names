{
 "cells": [
  {
   "cell_type": "code",
   "execution_count": 1,
   "metadata": {},
   "outputs": [],
   "source": [
    "# importing the necessary libraries.\n",
    "from bs4 import BeautifulSoup\n",
    "import requests\n",
    "import urllib\n",
    "import pandas as pd"
   ]
  },
  {
   "cell_type": "code",
   "execution_count": 2,
   "metadata": {},
   "outputs": [],
   "source": [
    "# accessing the website.\n",
    "search_url = \"https://www.knowledgeowl.com\"\n",
    "r = requests.get(search_url)\n",
    "soup = BeautifulSoup(r.text, 'html.parser')\n",
    "Location = soup.find_all('div', class_ = \"logos\")\n",
    "images = Location[0].find_all('img')"
   ]
  },
  {
   "cell_type": "code",
   "execution_count": 15,
   "metadata": {},
   "outputs": [
    {
     "name": "stdout",
     "output_type": "stream",
     "text": [
      "/assets/img/dev-results@x2.852b227b-852b22.png\n",
      "/assets/img/frontier-airlines@x2.af489973-af4899.png\n",
      "/assets/img/alexander-forrest@x2.59ec188b-59ec18.png\n",
      "/assets/img/inspired-elearning@x2.e8eeed3c-e8eeed.png\n",
      "/assets/img/hba@x2.b0b23336-b0b233.png\n",
      "/assets/img/jackrabbit-class@x2.453a828c-453a82.png\n",
      "['https://www.knowledgeowl.com/assets/img/dev-results@x2.852b227b-852b22.png', 'https://www.knowledgeowl.com/assets/img/frontier-airlines@x2.af489973-af4899.png', 'https://www.knowledgeowl.com/assets/img/alexander-forrest@x2.59ec188b-59ec18.png', 'https://www.knowledgeowl.com/assets/img/inspired-elearning@x2.e8eeed3c-e8eeed.png', 'https://www.knowledgeowl.com/assets/img/hba@x2.b0b23336-b0b233.png', 'https://www.knowledgeowl.com/assets/img/jackrabbit-class@x2.453a828c-453a82.png']\n"
     ]
    }
   ],
   "source": [
    "# extracting the image links.\n",
    "logo_link = []\n",
    "link_name =[] # using this to obtain names of the companies.\n",
    "for i  in images:\n",
    "    print(i['src'])\n",
    "    link_name.append(i['src'])\n",
    "    l = search_url + i['src']\n",
    "    if l not in logo_link:\n",
    "        logo_link.append(l)\n",
    "print(logo_link)\n"
   ]
  },
  {
   "cell_type": "code",
   "execution_count": 26,
   "metadata": {},
   "outputs": [],
   "source": [
    "# saving the images.\n",
    "count = 0\n",
    "for i in logo_link:\n",
    "    resource = urllib.request.urlopen(i)\n",
    "    output = open(f'{count}.jpg',\"wb\")\n",
    "    output.write(resource.read())\n",
    "    output.close()\n",
    "    count += 1"
   ]
  },
  {
   "cell_type": "code",
   "execution_count": 16,
   "metadata": {},
   "outputs": [
    {
     "data": {
      "text/plain": [
       "['/assets/img/dev-results@x2.852b227b-852b22.png',\n",
       " '/assets/img/frontier-airlines@x2.af489973-af4899.png',\n",
       " '/assets/img/alexander-forrest@x2.59ec188b-59ec18.png',\n",
       " '/assets/img/inspired-elearning@x2.e8eeed3c-e8eeed.png',\n",
       " '/assets/img/hba@x2.b0b23336-b0b233.png',\n",
       " '/assets/img/jackrabbit-class@x2.453a828c-453a82.png']"
      ]
     },
     "execution_count": 16,
     "metadata": {},
     "output_type": "execute_result"
    }
   ],
   "source": [
    "link_name"
   ]
  },
  {
   "cell_type": "code",
   "execution_count": 18,
   "metadata": {},
   "outputs": [
    {
     "name": "stdout",
     "output_type": "stream",
     "text": [
      "dev-results@x2.852b227b-852b22.png\n",
      "frontier-airlines@x2.af489973-af4899.png\n",
      "alexander-forrest@x2.59ec188b-59ec18.png\n",
      "inspired-elearning@x2.e8eeed3c-e8eeed.png\n",
      "hba@x2.b0b23336-b0b233.png\n",
      "jackrabbit-class@x2.453a828c-453a82.png\n"
     ]
    }
   ],
   "source": [
    "n = []\n",
    "for i in link_name:\n",
    "    print(i.split('/')[-1])\n",
    "    n.append(i.split('/')[-1])"
   ]
  },
  {
   "cell_type": "code",
   "execution_count": 19,
   "metadata": {},
   "outputs": [
    {
     "name": "stdout",
     "output_type": "stream",
     "text": [
      "dev-results\n",
      "frontier-airlines\n",
      "alexander-forrest\n",
      "inspired-elearning\n",
      "hba\n",
      "jackrabbit-class\n"
     ]
    }
   ],
   "source": [
    "logo_name = []\n",
    "for i in n:\n",
    "    print(i.split('@')[0])\n",
    "    logo_name.append(i.split('@')[0])"
   ]
  },
  {
   "cell_type": "code",
   "execution_count": 21,
   "metadata": {},
   "outputs": [
    {
     "data": {
      "text/html": [
       "<div>\n",
       "<style scoped>\n",
       "    .dataframe tbody tr th:only-of-type {\n",
       "        vertical-align: middle;\n",
       "    }\n",
       "\n",
       "    .dataframe tbody tr th {\n",
       "        vertical-align: top;\n",
       "    }\n",
       "\n",
       "    .dataframe thead th {\n",
       "        text-align: right;\n",
       "    }\n",
       "</style>\n",
       "<table border=\"1\" class=\"dataframe\">\n",
       "  <thead>\n",
       "    <tr style=\"text-align: right;\">\n",
       "      <th></th>\n",
       "      <th>Logo Name</th>\n",
       "    </tr>\n",
       "  </thead>\n",
       "  <tbody>\n",
       "    <tr>\n",
       "      <th>0</th>\n",
       "      <td>dev-results</td>\n",
       "    </tr>\n",
       "    <tr>\n",
       "      <th>1</th>\n",
       "      <td>frontier-airlines</td>\n",
       "    </tr>\n",
       "    <tr>\n",
       "      <th>2</th>\n",
       "      <td>alexander-forrest</td>\n",
       "    </tr>\n",
       "    <tr>\n",
       "      <th>3</th>\n",
       "      <td>inspired-elearning</td>\n",
       "    </tr>\n",
       "    <tr>\n",
       "      <th>4</th>\n",
       "      <td>hba</td>\n",
       "    </tr>\n",
       "    <tr>\n",
       "      <th>5</th>\n",
       "      <td>jackrabbit-class</td>\n",
       "    </tr>\n",
       "  </tbody>\n",
       "</table>\n",
       "</div>"
      ],
      "text/plain": [
       "            Logo Name\n",
       "0         dev-results\n",
       "1   frontier-airlines\n",
       "2   alexander-forrest\n",
       "3  inspired-elearning\n",
       "4                 hba\n",
       "5    jackrabbit-class"
      ]
     },
     "execution_count": 21,
     "metadata": {},
     "output_type": "execute_result"
    }
   ],
   "source": [
    "df = pd.DataFrame(logo_name , columns = ['Logo Name']) # creating a dataframe of the logo names.\n",
    "df\n"
   ]
  },
  {
   "cell_type": "code",
   "execution_count": 22,
   "metadata": {},
   "outputs": [],
   "source": [
    "df.to_excel('logo_name.xlsx', index = False) # saving the dataframe in excel."
   ]
  }
 ],
 "metadata": {
  "interpreter": {
   "hash": "dc07d24e2f18896857f0b2a651fe84ba40ce7b297e58d8804a308c8039f752a6"
  },
  "kernelspec": {
   "display_name": "Python 3.8.8 ('base')",
   "language": "python",
   "name": "python3"
  },
  "language_info": {
   "codemirror_mode": {
    "name": "ipython",
    "version": 3
   },
   "file_extension": ".py",
   "mimetype": "text/x-python",
   "name": "python",
   "nbconvert_exporter": "python",
   "pygments_lexer": "ipython3",
   "version": "3.8.8"
  },
  "orig_nbformat": 4
 },
 "nbformat": 4,
 "nbformat_minor": 2
}
