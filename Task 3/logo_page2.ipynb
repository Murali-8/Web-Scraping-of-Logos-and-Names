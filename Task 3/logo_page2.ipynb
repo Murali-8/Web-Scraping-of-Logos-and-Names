{
 "cells": [
  {
   "cell_type": "code",
   "execution_count": 1,
   "metadata": {},
   "outputs": [],
   "source": [
    "from bs4 import BeautifulSoup\n",
    "import requests\n",
    "import urllib\n",
    "import pandas as pd"
   ]
  },
  {
   "cell_type": "code",
   "execution_count": 2,
   "metadata": {},
   "outputs": [],
   "source": [
    "search_url = \"https://clickhelp.com\"\n",
    "r = requests.get(search_url)\n",
    "soup = BeautifulSoup(r.text, 'html.parser')\n",
    "location = soup.find_all('div', class_ = 'Home_trustedByLogos')\n",
    "logos = location[0].find_all('img')"
   ]
  },
  {
   "cell_type": "code",
   "execution_count": 3,
   "metadata": {},
   "outputs": [
    {
     "name": "stdout",
     "output_type": "stream",
     "text": [
      "/Images/Pages/Home/customer-logos/logo-relyence.png\n",
      "/Images/Pages/Home/customer-logos/logo-ibm.png\n",
      "/Images/Pages/Home/customer-logos/logo-bmt.png\n",
      "/Images/Pages/Home/customer-logos/logo-blexr.png\n",
      "/Images/Pages/Home/customer-logos/logo-inovx.png\n",
      "/Images/Pages/Home/customer-logos/logo-skyword.png\n",
      "['https://clickhelp.com/Images/Pages/Home/customer-logos/logo-relyence.png', 'https://clickhelp.com/Images/Pages/Home/customer-logos/logo-ibm.png', 'https://clickhelp.com/Images/Pages/Home/customer-logos/logo-bmt.png', 'https://clickhelp.com/Images/Pages/Home/customer-logos/logo-blexr.png', 'https://clickhelp.com/Images/Pages/Home/customer-logos/logo-inovx.png', 'https://clickhelp.com/Images/Pages/Home/customer-logos/logo-skyword.png']\n"
     ]
    }
   ],
   "source": [
    "logo_link = [] \n",
    "for i in logos:\n",
    "    print(i['src']) # the link is not complete.\n",
    "    l = search_url + i['src'] # appending the link to the search url\n",
    "    if l not in logo_link:\n",
    "        logo_link.append(l)\n",
    "print(logo_link) # list of all the links"
   ]
  },
  {
   "cell_type": "code",
   "execution_count": 4,
   "metadata": {},
   "outputs": [
    {
     "name": "stdout",
     "output_type": "stream",
     "text": [
      "['Relyence', 'IBM', 'BMT', 'Blexr', 'Inovx', 'Skyword']\n"
     ]
    }
   ],
   "source": [
    "# getting the names of the logos.\n",
    "logo_name = []\n",
    "for i in logos:\n",
    "    n = i['alt']\n",
    "    if n not in logo_name:\n",
    "        logo_name.append(n.split(\",\")[0])\n",
    "print(logo_name)"
   ]
  },
  {
   "cell_type": "code",
   "execution_count": 5,
   "metadata": {},
   "outputs": [
    {
     "data": {
      "text/html": [
       "<div>\n",
       "<style scoped>\n",
       "    .dataframe tbody tr th:only-of-type {\n",
       "        vertical-align: middle;\n",
       "    }\n",
       "\n",
       "    .dataframe tbody tr th {\n",
       "        vertical-align: top;\n",
       "    }\n",
       "\n",
       "    .dataframe thead th {\n",
       "        text-align: right;\n",
       "    }\n",
       "</style>\n",
       "<table border=\"1\" class=\"dataframe\">\n",
       "  <thead>\n",
       "    <tr style=\"text-align: right;\">\n",
       "      <th></th>\n",
       "      <th>Logo Name</th>\n",
       "    </tr>\n",
       "  </thead>\n",
       "  <tbody>\n",
       "    <tr>\n",
       "      <th>0</th>\n",
       "      <td>Relyence</td>\n",
       "    </tr>\n",
       "    <tr>\n",
       "      <th>1</th>\n",
       "      <td>IBM</td>\n",
       "    </tr>\n",
       "    <tr>\n",
       "      <th>2</th>\n",
       "      <td>BMT</td>\n",
       "    </tr>\n",
       "    <tr>\n",
       "      <th>3</th>\n",
       "      <td>Blexr</td>\n",
       "    </tr>\n",
       "    <tr>\n",
       "      <th>4</th>\n",
       "      <td>Inovx</td>\n",
       "    </tr>\n",
       "    <tr>\n",
       "      <th>5</th>\n",
       "      <td>Skyword</td>\n",
       "    </tr>\n",
       "  </tbody>\n",
       "</table>\n",
       "</div>"
      ],
      "text/plain": [
       "  Logo Name\n",
       "0  Relyence\n",
       "1       IBM\n",
       "2       BMT\n",
       "3     Blexr\n",
       "4     Inovx\n",
       "5   Skyword"
      ]
     },
     "execution_count": 5,
     "metadata": {},
     "output_type": "execute_result"
    }
   ],
   "source": [
    "# converting the list of links to a dataframe.\n",
    "df = pd.DataFrame(logo_name, columns = ['Logo Name'])\n",
    "df"
   ]
  },
  {
   "cell_type": "code",
   "execution_count": 88,
   "metadata": {},
   "outputs": [],
   "source": [
    "# saving the images to a folder.\n",
    "count = 0\n",
    "for i in logo_link:\n",
    "    resource = urllib.request.urlopen(i)\n",
    "    output = open(f'{count}.jpg',\"wb\")\n",
    "    output.write(resource.read())\n",
    "    output.close()\n",
    "    count += 1"
   ]
  },
  {
   "cell_type": "code",
   "execution_count": 106,
   "metadata": {},
   "outputs": [],
   "source": [
    "df.to_excel('logo_name.xlsx', index = False) # saving the dataframe to an excel file."
   ]
  },
  {
   "cell_type": "code",
   "execution_count": null,
   "metadata": {},
   "outputs": [],
   "source": []
  },
  {
   "cell_type": "code",
   "execution_count": null,
   "metadata": {},
   "outputs": [],
   "source": []
  },
  {
   "cell_type": "code",
   "execution_count": null,
   "metadata": {},
   "outputs": [],
   "source": []
  },
  {
   "cell_type": "code",
   "execution_count": null,
   "metadata": {},
   "outputs": [],
   "source": []
  },
  {
   "cell_type": "code",
   "execution_count": null,
   "metadata": {},
   "outputs": [],
   "source": []
  },
  {
   "cell_type": "code",
   "execution_count": null,
   "metadata": {},
   "outputs": [],
   "source": []
  },
  {
   "cell_type": "code",
   "execution_count": null,
   "metadata": {},
   "outputs": [],
   "source": []
  },
  {
   "cell_type": "code",
   "execution_count": null,
   "metadata": {},
   "outputs": [],
   "source": []
  },
  {
   "cell_type": "code",
   "execution_count": null,
   "metadata": {},
   "outputs": [],
   "source": []
  },
  {
   "cell_type": "code",
   "execution_count": null,
   "metadata": {},
   "outputs": [],
   "source": []
  },
  {
   "cell_type": "code",
   "execution_count": null,
   "metadata": {},
   "outputs": [],
   "source": []
  },
  {
   "cell_type": "code",
   "execution_count": null,
   "metadata": {},
   "outputs": [],
   "source": []
  },
  {
   "cell_type": "code",
   "execution_count": null,
   "metadata": {},
   "outputs": [],
   "source": []
  }
 ],
 "metadata": {
  "interpreter": {
   "hash": "dc07d24e2f18896857f0b2a651fe84ba40ce7b297e58d8804a308c8039f752a6"
  },
  "kernelspec": {
   "display_name": "Python 3.8.8 ('base')",
   "language": "python",
   "name": "python3"
  },
  "language_info": {
   "codemirror_mode": {
    "name": "ipython",
    "version": 3
   },
   "file_extension": ".py",
   "mimetype": "text/x-python",
   "name": "python",
   "nbconvert_exporter": "python",
   "pygments_lexer": "ipython3",
   "version": "3.8.8"
  },
  "orig_nbformat": 4
 },
 "nbformat": 4,
 "nbformat_minor": 2
}
