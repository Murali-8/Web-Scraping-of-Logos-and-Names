{
 "cells": [
  {
   "cell_type": "code",
   "execution_count": 1,
   "metadata": {},
   "outputs": [],
   "source": [
    "# importing the necessary packages.\n",
    "from bs4 import BeautifulSoup\n",
    "import requests\n",
    "import urllib\n",
    "import pandas as pd"
   ]
  },
  {
   "cell_type": "code",
   "execution_count": 2,
   "metadata": {},
   "outputs": [],
   "source": [
    "# accessing the website.\n",
    "search_url =  \"https://helpjuice.com\"\n",
    "r = requests.get(search_url)\n",
    "soup = BeautifulSoup(r.text, 'html.parser')\n",
    "logos = soup.find_all('source', media = \"(min-width: 720px)\")"
   ]
  },
  {
   "cell_type": "code",
   "execution_count": 3,
   "metadata": {},
   "outputs": [],
   "source": [
    "# finding the location of the logos.\n",
    "Location = soup.find_all('section' ,class_ = 'our-clients')\n",
    "Names = Location[0].find_all('img')  "
   ]
  },
  {
   "cell_type": "code",
   "execution_count": 4,
   "metadata": {},
   "outputs": [],
   "source": [
    "sources = Location[0].find_all('source') "
   ]
  },
  {
   "cell_type": "code",
   "execution_count": 5,
   "metadata": {},
   "outputs": [
    {
     "name": "stdout",
     "output_type": "stream",
     "text": [
      "['data:image/gif;base64,R0lGODlhAQABAAAAACH5BAEKAAEALAAAAAABAAEAAAICTAEAOw==', 'data:image/gif;base64,R0lGODlhAQABAAAAACH5BAEKAAEALAAAAAABAAEAAAICTAEAOw==', 'data:image/gif;base64,R0lGODlhAQABAAAAACH5BAEKAAEALAAAAAABAAEAAAICTAEAOw==', 'data:image/gif;base64,R0lGODlhAQABAAAAACH5BAEKAAEALAAAAAABAAEAAAICTAEAOw==', 'data:image/gif;base64,R0lGODlhAQABAAAAACH5BAEKAAEALAAAAAABAAEAAAICTAEAOw==', 'data:image/gif;base64,R0lGODlhAQABAAAAACH5BAEKAAEALAAAAAABAAEAAAICTAEAOw==', 'data:image/gif;base64,R0lGODlhAQABAAAAACH5BAEKAAEALAAAAAABAAEAAAICTAEAOw==', 'data:image/gif;base64,R0lGODlhAQABAAAAACH5BAEKAAEALAAAAAABAAEAAAICTAEAOw==']\n"
     ]
    }
   ],
   "source": [
    "l  = []\n",
    "for i in Names:\n",
    "    l.append(i['srcset'])\n",
    "print(l)\n",
    "l = set(l) #  Finding the gif links inbetween the image logo links. "
   ]
  },
  {
   "cell_type": "code",
   "execution_count": 6,
   "metadata": {},
   "outputs": [
    {
     "name": "stdout",
     "output_type": "stream",
     "text": [
      "https://static.helpjuice.com/assets/marketing/customers-logos/amazon-logo-6c9cd2fafabe36d3d4bd058cdd1acc068273f37459f16117985d1908676a17d4.svg\n",
      "data:image/gif;base64,R0lGODlhAQABAAAAACH5BAEKAAEALAAAAAABAAEAAAICTAEAOw==\n",
      "https://static.helpjuice.com/assets/marketing/customers-logos/who-logo-70be5070502af2fb6e6c6501db35bc4bbeb07c3aae70b55953e1ea8548fa9c75.svg\n",
      "data:image/gif;base64,R0lGODlhAQABAAAAACH5BAEKAAEALAAAAAABAAEAAAICTAEAOw==\n",
      "https://static.helpjuice.com/assets/marketing2/hertzlogo-77fad8daeda35c9e62294f4eb555bec1dfa4ea09ccf03b3e555bd0b15aa08963.svg\n",
      "data:image/gif;base64,R0lGODlhAQABAAAAACH5BAEKAAEALAAAAAABAAEAAAICTAEAOw==\n",
      "https://static.helpjuice.com/assets/marketing/customers-logos/tcl-logo-852173f97df16ba6008064263dc85c55ac90b330385421edda499cd6aa2a05d6.svg\n",
      "data:image/gif;base64,R0lGODlhAQABAAAAACH5BAEKAAEALAAAAAABAAEAAAICTAEAOw==\n",
      "https://static.helpjuice.com/assets/marketing/customers-logos/virginmobile-logo-cc8c7054e8e17ba20c87f71545f78675d25bcb3bd7867cbb6084d30eebc83449.png\n",
      "data:image/gif;base64,R0lGODlhAQABAAAAACH5BAEKAAEALAAAAAABAAEAAAICTAEAOw==\n",
      "https://static.helpjuice.com/assets/marketing/customers-logos/shipt-logo-4b2ddcfee17ec2a4b4cbcc9e68b1d68f4a8453356401011bda8ca5e8da5251d4.svg\n",
      "data:image/gif;base64,R0lGODlhAQABAAAAACH5BAEKAAEALAAAAAABAAEAAAICTAEAOw==\n",
      "https://static.helpjuice.com/assets/marketing/customers-logos/nginx-logo-ff39f45e61f1116dacc37dbad916c07c72fbd5f03098e41af6fe9ca4423e3d2d.svg\n",
      "data:image/gif;base64,R0lGODlhAQABAAAAACH5BAEKAAEALAAAAAABAAEAAAICTAEAOw==\n",
      "https://static.helpjuice.com/assets/marketing/customers-logos/glovo-logo-37b7f090ecd1c4f3265d5bdaeccc27ff5e7e0fc36d78e20c7f304798a754e531.svg\n",
      "data:image/gif;base64,R0lGODlhAQABAAAAACH5BAEKAAEALAAAAAABAAEAAAICTAEAOw==\n"
     ]
    }
   ],
   "source": [
    "s = []\n",
    "for i in sources:\n",
    "    print(i['srcset'])\n",
    "    s.append(i['srcset'])\n",
    "s = set(s) # extracting the logo links."
   ]
  },
  {
   "cell_type": "code",
   "execution_count": 8,
   "metadata": {},
   "outputs": [
    {
     "data": {
      "text/plain": [
       "{'https://static.helpjuice.com/assets/marketing/customers-logos/amazon-logo-6c9cd2fafabe36d3d4bd058cdd1acc068273f37459f16117985d1908676a17d4.svg',\n",
       " 'https://static.helpjuice.com/assets/marketing/customers-logos/glovo-logo-37b7f090ecd1c4f3265d5bdaeccc27ff5e7e0fc36d78e20c7f304798a754e531.svg',\n",
       " 'https://static.helpjuice.com/assets/marketing/customers-logos/nginx-logo-ff39f45e61f1116dacc37dbad916c07c72fbd5f03098e41af6fe9ca4423e3d2d.svg',\n",
       " 'https://static.helpjuice.com/assets/marketing/customers-logos/shipt-logo-4b2ddcfee17ec2a4b4cbcc9e68b1d68f4a8453356401011bda8ca5e8da5251d4.svg',\n",
       " 'https://static.helpjuice.com/assets/marketing/customers-logos/tcl-logo-852173f97df16ba6008064263dc85c55ac90b330385421edda499cd6aa2a05d6.svg',\n",
       " 'https://static.helpjuice.com/assets/marketing/customers-logos/virginmobile-logo-cc8c7054e8e17ba20c87f71545f78675d25bcb3bd7867cbb6084d30eebc83449.png',\n",
       " 'https://static.helpjuice.com/assets/marketing/customers-logos/who-logo-70be5070502af2fb6e6c6501db35bc4bbeb07c3aae70b55953e1ea8548fa9c75.svg',\n",
       " 'https://static.helpjuice.com/assets/marketing2/hertzlogo-77fad8daeda35c9e62294f4eb555bec1dfa4ea09ccf03b3e555bd0b15aa08963.svg'}"
      ]
     },
     "execution_count": 8,
     "metadata": {},
     "output_type": "execute_result"
    }
   ],
   "source": [
    "# removing the gif links from logo links.\n",
    "logo_link = set(s) - set(l)\n",
    "logo_link \n"
   ]
  },
  {
   "cell_type": "code",
   "execution_count": 9,
   "metadata": {},
   "outputs": [],
   "source": [
    "# saving the logo images in the folder.\n",
    "count = 0\n",
    "for i in logo_link:\n",
    "    resource = urllib.request.urlopen(i)\n",
    "    output = open(f'{count}.jpg',\"wb\")\n",
    "    output.write(resource.read())\n",
    "    output.close()\n",
    "    count += 1"
   ]
  },
  {
   "cell_type": "code",
   "execution_count": 10,
   "metadata": {},
   "outputs": [
    {
     "name": "stdout",
     "output_type": "stream",
     "text": [
      "['Amazon', 'World', 'Hertz', 'TCL', 'Virgin', 'Shipt', 'Nginx', 'Glovo']\n"
     ]
    }
   ],
   "source": [
    "# getting the names of the links.\n",
    "logo_name = []\n",
    "for i in Names:\n",
    "    #print(i['alt'])\n",
    "    logo_name.append(i['alt'].split(' ')[0])\n",
    "print(logo_name)"
   ]
  },
  {
   "cell_type": "code",
   "execution_count": 11,
   "metadata": {},
   "outputs": [
    {
     "data": {
      "text/html": [
       "<div>\n",
       "<style scoped>\n",
       "    .dataframe tbody tr th:only-of-type {\n",
       "        vertical-align: middle;\n",
       "    }\n",
       "\n",
       "    .dataframe tbody tr th {\n",
       "        vertical-align: top;\n",
       "    }\n",
       "\n",
       "    .dataframe thead th {\n",
       "        text-align: right;\n",
       "    }\n",
       "</style>\n",
       "<table border=\"1\" class=\"dataframe\">\n",
       "  <thead>\n",
       "    <tr style=\"text-align: right;\">\n",
       "      <th></th>\n",
       "      <th>Logo Name</th>\n",
       "    </tr>\n",
       "  </thead>\n",
       "  <tbody>\n",
       "    <tr>\n",
       "      <th>0</th>\n",
       "      <td>Amazon</td>\n",
       "    </tr>\n",
       "    <tr>\n",
       "      <th>1</th>\n",
       "      <td>World</td>\n",
       "    </tr>\n",
       "    <tr>\n",
       "      <th>2</th>\n",
       "      <td>Hertz</td>\n",
       "    </tr>\n",
       "    <tr>\n",
       "      <th>3</th>\n",
       "      <td>TCL</td>\n",
       "    </tr>\n",
       "    <tr>\n",
       "      <th>4</th>\n",
       "      <td>Virgin</td>\n",
       "    </tr>\n",
       "    <tr>\n",
       "      <th>5</th>\n",
       "      <td>Shipt</td>\n",
       "    </tr>\n",
       "    <tr>\n",
       "      <th>6</th>\n",
       "      <td>Nginx</td>\n",
       "    </tr>\n",
       "    <tr>\n",
       "      <th>7</th>\n",
       "      <td>Glovo</td>\n",
       "    </tr>\n",
       "  </tbody>\n",
       "</table>\n",
       "</div>"
      ],
      "text/plain": [
       "  Logo Name\n",
       "0    Amazon\n",
       "1     World\n",
       "2     Hertz\n",
       "3       TCL\n",
       "4    Virgin\n",
       "5     Shipt\n",
       "6     Nginx\n",
       "7     Glovo"
      ]
     },
     "execution_count": 11,
     "metadata": {},
     "output_type": "execute_result"
    }
   ],
   "source": [
    "df = pd.DataFrame(logo_name , columns = ['Logo Name']) # creating a dataframe of the logo names.\n",
    "df"
   ]
  },
  {
   "cell_type": "code",
   "execution_count": 12,
   "metadata": {},
   "outputs": [],
   "source": [
    "df.to_excel('logo_name.xlsx', index = False) # saving the dataframe in excel."
   ]
  }
 ],
 "metadata": {
  "interpreter": {
   "hash": "dc07d24e2f18896857f0b2a651fe84ba40ce7b297e58d8804a308c8039f752a6"
  },
  "kernelspec": {
   "display_name": "Python 3.8.8 ('base')",
   "language": "python",
   "name": "python3"
  },
  "language_info": {
   "codemirror_mode": {
    "name": "ipython",
    "version": 3
   },
   "file_extension": ".py",
   "mimetype": "text/x-python",
   "name": "python",
   "nbconvert_exporter": "python",
   "pygments_lexer": "ipython3",
   "version": "3.8.8"
  },
  "orig_nbformat": 4
 },
 "nbformat": 4,
 "nbformat_minor": 2
}
